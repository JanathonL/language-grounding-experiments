{
 "cells": [
  {
   "cell_type": "code",
   "execution_count": 6,
   "metadata": {},
   "outputs": [
    {
     "name": "stdout",
     "output_type": "stream",
     "text": [
      "Overwriting environment.py\n"
     ]
    }
   ],
   "source": [
    "%%writefile environment.py\n",
    "import numpy as np\n",
    "\n",
    "def two_hot(n, a, b):\n",
    "    ret = np.zeros(2 * n)\n",
    "    ret[[a, n + b]] = 1\n",
    "    return ret\n",
    "\n",
    "class Game(object):\n",
    "    def __init__(self, n):\n",
    "        self.n = n\n",
    "        self.target = None\n",
    "        self.flip = None\n",
    "        self.x = None\n",
    "        self.y = None\n",
    "        self.reset()\n",
    "    \n",
    "    def reset(self):\n",
    "        self.flip = np.random.randint(2)\n",
    "    \n",
    "    def sender_input(self):\n",
    "        x, y = np.random.choice(range(self.n), 2, replace=False)\n",
    "        self.x, self.y = x, y\n",
    "        self.target = 0 if x > y else 1\n",
    "        return two_hot(self.n, x, y)\n",
    "        \n",
    "    def receiver_input(self, val):\n",
    "        assert -1e-8 < val < 1 + 1e-8\n",
    "        if self.flip == 1: \n",
    "            self.target = 1 - self.target\n",
    "            self.x, self.y = self.y, self.x\n",
    "        return np.concatenate((two_hot(self.n, self.x, self.y), [val]))\n",
    "    \n",
    "    def reward(self, out):\n",
    "        assert self.target is not None\n",
    "        if out == self.target:\n",
    "            return 1\n",
    "        else:\n",
    "            return 0    \n",
    "\n",
    "if __name__ == '__main__':\n",
    "    g = Game(10)\n",
    "    print(g.sender_input())\n",
    "    print(g.receiver_input(0.5))\n",
    "    g.reset()\n",
    "    print(g.sender_input())\n",
    "    print(g.receiver_input(0.5))"
   ]
  },
  {
   "cell_type": "code",
   "execution_count": 3,
   "metadata": {},
   "outputs": [
    {
     "name": "stdout",
     "output_type": "stream",
     "text": [
      "Writing train.py\n"
     ]
    }
   ],
   "source": [
    "%%writefile train.py\n",
    "\n",
    "\"\"\"\n",
    "About Deterministic Policy Gradient:\n",
    "\"\"\"\n",
    "\n",
    "from environment import Game\n",
    "\n"
   ]
  },
  {
   "cell_type": "code",
   "execution_count": null,
   "metadata": {
    "collapsed": true
   },
   "outputs": [],
   "source": [
    "%%writefile model.py\n",
    "\n",
    "import torch \n",
    "import torch.nn as nn\n",
    "import torch.nn.functional as F\n",
    "\n",
    "def Receiver(nn.Module):\n",
    "    def __init__(self):\n",
    "        pass\n",
    "    \n",
    "    def forward(self):\n",
    "        pass\n",
    "\n",
    "def SenderAct\n"
   ]
  }
 ],
 "metadata": {
  "kernelspec": {
   "display_name": "Python 2",
   "language": "python",
   "name": "python2"
  },
  "language_info": {
   "codemirror_mode": {
    "name": "ipython",
    "version": 2
   },
   "file_extension": ".py",
   "mimetype": "text/x-python",
   "name": "python",
   "nbconvert_exporter": "python",
   "pygments_lexer": "ipython2",
   "version": "2.7.12"
  }
 },
 "nbformat": 4,
 "nbformat_minor": 2
}
